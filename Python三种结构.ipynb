{
 "cells": [
  {
   "cell_type": "markdown",
   "metadata": {},
   "source": [
    "<font face=\"黑体\" size=5>Python中的结构（顺序，选择，循环）</font>  \n",
    "<font color=#0099ff>1.顺序结构</font>  \n",
    "·顺序结构是指没有选择分支或循环的语句，按照编写顺序，由上一条运行到下一条  \n"
   ]
  },
  {
   "cell_type": "code",
   "execution_count": 6,
   "metadata": {},
   "outputs": [
    {
     "name": "stdout",
     "output_type": "stream",
     "text": [
      "100\n",
      "Life is beautiful.\n"
     ]
    },
    {
     "data": {
      "text/plain": [
       "'Life'"
      ]
     },
     "execution_count": 6,
     "metadata": {},
     "output_type": "execute_result"
    }
   ],
   "source": [
    "#例1-1\n",
    "print(100)#第一个执行\n",
    "print('Life is beautiful.')#第二个执行\n",
    "n='life'\n",
    "n.title()#第三个执行"
   ]
  },
  {
   "cell_type": "markdown",
   "metadata": {},
   "source": [
    "<font color=#0099ff>2.选择（分支）结构</font>   \n",
    "·选择分支结构是指当代码运行到此结构时，会先判断条件正确与否（True or False），再根据条件判断的结果，选择相应分支的代码执行。  \n",
    "&ensp;可以借助分段函数的运行方式理解  \n",
    "·判断方法  \n",
    "（1）if语句（只需判断一种情况）  \n",
    "<font face=\"黑体\" size=2>&emsp;if(条件表达式1)：  \n",
    "&emsp;&emsp;执行语句1  \n",
    "&emsp;&emsp;执行语句2  \n",
    "&emsp;&emsp;...</font>"
   ]
  },
  {
   "cell_type": "code",
   "execution_count": 7,
   "metadata": {},
   "outputs": [
    {
     "name": "stdout",
     "output_type": "stream",
     "text": [
      "lalalala\n",
      "8\n"
     ]
    }
   ],
   "source": [
    "#例2-1\n",
    "if 1<7:#条件表达式1\n",
    "    print('lalalala')#执行语句1\n",
    "    print(1+7)#执行语句2"
   ]
  },
  {
   "cell_type": "markdown",
   "metadata": {},
   "source": [
    "if语句不要忘记“<font color=#0099ff>：</font>”，结构中的执行语句前要使用空格缩进，共同缩进的语句，视作一个整体。如例2-1，若条件表达式1为True，则按顺序依次运行执行语句1，2..."
   ]
  },
  {
   "cell_type": "code",
   "execution_count": 8,
   "metadata": {},
   "outputs": [
    {
     "name": "stdout",
     "output_type": "stream",
     "text": [
      "FINISH\n"
     ]
    }
   ],
   "source": [
    "#例2-2\n",
    "s=1000\n",
    "if 1200<=s:#False,不执行\n",
    "    print('hhh')\n",
    "#选择结构执行完毕，继续执行程序\n",
    "print('FINISH')"
   ]
  },
  {
   "cell_type": "markdown",
   "metadata": {},
   "source": [
    "例2-2中，if条件表达式结果为False，选择结构中语句不执行，此机构运行完毕，然后执行的是“print('FINSH')”"
   ]
  },
  {
   "cell_type": "markdown",
   "metadata": {},
   "source": [
    "（2）if else语句   \n",
    "&emsp;if else语句适用于需要判断并执行两种情况，根据是否满足条件的情况执行语句。  \n",
    "<font face=\"黑体\" size=2>&emsp;if（条件表达式1）：  \n",
    "&emsp;&emsp;执行语句A  \n",
    "&emsp;&emsp;...  \n",
    "&emsp;else:  \n",
    "&emsp;&emsp;执行语句B  \n",
    "&emsp;&emsp;...</font>"
   ]
  },
  {
   "cell_type": "code",
   "execution_count": 9,
   "metadata": {
    "scrolled": true
   },
   "outputs": [
    {
     "name": "stdout",
     "output_type": "stream",
     "text": [
      "Life sucks\n"
     ]
    }
   ],
   "source": [
    "#例2-3\n",
    "s=1000\n",
    "if s>=600:\n",
    "    print('Life sucks')\n",
    "else:\n",
    "    print('I love my life.')"
   ]
  },
  {
   "cell_type": "markdown",
   "metadata": {},
   "source": [
    "（3）if elif else语句  \n",
    "&emsp;if elif else语句适用于需判断多个条件表达式的情况（>2种）  \n",
    "<font face=\"黑体\" size=2>&emsp;if(条件表达式1):  \n",
    "&emsp;&emsp;执行语句  \n",
    "&emsp;elif(条件表达式2)：  \n",
    "&emsp;&emsp;执行语句  \n",
    "&emsp;else:  \n",
    "&emsp;&emsp;执行语句</font>\n"
   ]
  },
  {
   "cell_type": "code",
   "execution_count": 12,
   "metadata": {},
   "outputs": [
    {
     "name": "stdout",
     "output_type": "stream",
     "text": [
      "3\n"
     ]
    }
   ],
   "source": [
    "#例2-4\n",
    "s=1+2\n",
    "if s>50:\n",
    "    print(1)\n",
    "elif s==50:\n",
    "    print(2)\n",
    "else:\n",
    "    print(3)"
   ]
  },
  {
   "cell_type": "markdown",
   "metadata": {},
   "source": [
    "if elif else语句中，可以有无限个elif，但是if else只能有一个，注意if elif else采用共同缩进。  \n",
    "注意，数字中，除了0都为True,0是False；非空字符串，列表，元组等都为True，空为False；None为False。"
   ]
  },
  {
   "cell_type": "markdown",
   "metadata": {},
   "source": [
    "<font color=#0099ff>3.循环结构</font>  \n",
    "·循环结构是一个条件判断语句和一个向回转向语句的组合，由三个要素构成：循环变量，循环体，循环终止条件。  \n",
    "·循环语句有for和while。  \n",
    "（1）while循环  \n",
    "<font face=\"黑体\" size=2>&emsp;while 判断条件：  \n",
    "&emsp;&emsp;执行语句</font>"
   ]
  },
  {
   "cell_type": "code",
   "execution_count": 18,
   "metadata": {},
   "outputs": [
    {
     "name": "stdout",
     "output_type": "stream",
     "text": [
      "0\n",
      "1\n",
      "3\n",
      "6\n",
      "10\n",
      "15\n",
      "15\n"
     ]
    }
   ],
   "source": [
    "#例3-1\n",
    "n=0\n",
    "i=0\n",
    "while i<6: #执行循环语句的条件（结果为True，循环；False，终止）\n",
    "    n=n+i\n",
    "    i+=1\n",
    "    print(n)\n",
    "print(n)#注意不同缩进的效果"
   ]
  },
  {
   "cell_type": "markdown",
   "metadata": {},
   "source": [
    "当whlie循环体中只有一条语句，可以与while写在同一行。"
   ]
  },
  {
   "cell_type": "code",
   "execution_count": null,
   "metadata": {
    "collapsed": true
   },
   "outputs": [],
   "source": [
    "#例3-2\n",
    "n=1\n",
    "while(n):print('Welcome')"
   ]
  },
  {
   "cell_type": "code",
   "execution_count": null,
   "metadata": {},
   "outputs": [
    {
     "name": "stdout",
     "output_type": "stream",
     "text": [
      "请输入一个数字3\n",
      "你输入的数字是 3\n"
     ]
    }
   ],
   "source": [
    "#例3-3 无限循环\n",
    "s=1\n",
    "while s==1:\n",
    "    n=int(input('请输入一个数字'))\n",
    "    print('你输入的数字是',n)\n",
    "print('Bye')"
   ]
  },
  {
   "cell_type": "markdown",
   "metadata": {},
   "source": [
    "（2）while else  \n",
    "&emsp;条件语句为False时，执行else的语句块。  \n",
    "<font face=\"黑体\" size=2>&emsp;while 条件语句：  \n",
    "&emsp;&emsp;执行语句  \n",
    "&emsp;else:  \n",
    "&emsp;&emsp;执行语句</font>"
   ]
  },
  {
   "cell_type": "code",
   "execution_count": 1,
   "metadata": {},
   "outputs": [
    {
     "name": "stdout",
     "output_type": "stream",
     "text": [
      "1\n",
      "2\n",
      "4\n",
      "7\n",
      "11\n",
      "lala\n"
     ]
    }
   ],
   "source": [
    "#例3-4\n",
    "s=1\n",
    "i=0\n",
    "while s<=7:\n",
    "    s=s+i\n",
    "    i+=1\n",
    "    print(s)\n",
    "else:\n",
    "    print('lala')"
   ]
  },
  {
   "cell_type": "markdown",
   "metadata": {
    "collapsed": true
   },
   "source": [
    "（2）for循环\n",
    "·可以遍历任何序列的项目，如列表和字符串。一般格式如下：  \n",
    "<font face=\"黑体\" size=2>&emsp;for 变量 in 序列：  \n",
    "&emsp;&emsp;执行语句  \n",
    "&emsp;else:  \n",
    "&emsp;&emsp;执行语句</font>"
   ]
  },
  {
   "cell_type": "code",
   "execution_count": 2,
   "metadata": {},
   "outputs": [
    {
     "name": "stdout",
     "output_type": "stream",
     "text": [
      "我说 hhh\n",
      "我说 life\n",
      "我说 sounds\n",
      "我说 boring\n"
     ]
    }
   ],
   "source": [
    "#例3-5\n",
    "line=['hhh','life','sounds','boring']\n",
    "for x in line: #可以任意命名line中的元素，如 for n/y/... in line\n",
    "    print('我说',x)"
   ]
  },
  {
   "cell_type": "markdown",
   "metadata": {},
   "source": [
    "·range()和len()函数也具有遍历的功能。  \n",
    "（3）break语句  \n",
    "·break语句可以跳出for和while的循环体，从循环体中终止，则else模块不执行。"
   ]
  },
  {
   "cell_type": "code",
   "execution_count": 3,
   "metadata": {},
   "outputs": [
    {
     "name": "stdout",
     "output_type": "stream",
     "text": [
      "当前字母为 i\n",
      "当前字母为 n\n",
      "当前字母为 t\n",
      "当前字母为 e\n"
     ]
    }
   ],
   "source": [
    "#例3-6\n",
    "for letters in 'interesting':\n",
    "    if letters=='r':\n",
    "        break\n",
    "    print('当前字母为',letters)"
   ]
  },
  {
   "cell_type": "code",
   "execution_count": 6,
   "metadata": {},
   "outputs": [
    {
     "name": "stdout",
     "output_type": "stream",
     "text": [
      "当前为 10\n",
      "当前为 8\n",
      "当前为 6\n",
      "当前为 4\n",
      "Bye\n"
     ]
    }
   ],
   "source": [
    "#例3-7\n",
    "n=10\n",
    "while n>0:\n",
    "    print('当前为',n)\n",
    "    n=n-2\n",
    "    if n==2:\n",
    "        break\n",
    "print('Bye')"
   ]
  }
 ],
 "metadata": {
  "kernelspec": {
   "display_name": "Python 3",
   "language": "python",
   "name": "python3"
  },
  "language_info": {
   "codemirror_mode": {
    "name": "ipython",
    "version": 3
   },
   "file_extension": ".py",
   "mimetype": "text/x-python",
   "name": "python",
   "nbconvert_exporter": "python",
   "pygments_lexer": "ipython3",
   "version": "3.6.3"
  }
 },
 "nbformat": 4,
 "nbformat_minor": 2
}
